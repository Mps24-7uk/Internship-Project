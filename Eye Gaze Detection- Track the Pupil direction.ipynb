{
 "cells": [
  {
   "cell_type": "code",
   "execution_count": 2,
   "metadata": {
    "collapsed": true
   },
   "outputs": [],
   "source": [
    "import cv2"
   ]
  },
  {
   "cell_type": "code",
   "execution_count": 11,
   "metadata": {},
   "outputs": [],
   "source": [
    "#Eye Gaze Detection- Track the Pupil direction\n",
    "\n",
    "eye_classifier=cv2.CascadeClassifier('C:/Users/mayank singh/Desktop/Opencv/haarcascade_eye.xml')\n",
    "\n",
    "\n",
    "def face_dectector(frame):\n",
    "\n",
    "\n",
    "    eye=eye_classifier.detectMultiScale(frame,1.1,3)\n",
    "    for (ex,ey,ew,eh) in eye:\n",
    "\n",
    "        cv2.circle(frame,(3+ex+int(ew/2),3+ey+int(eh/2)),2,(0,225,0),2)\n",
    "\n",
    "    return frame\n",
    "\n",
    "\n",
    "\n",
    "cap = cv2.VideoCapture(0)\n",
    "\n",
    "while (cap.isOpened()):\n",
    "    ret, frame=cap.read()\n",
    "    if ret:\n",
    "        grayscaletarget=cv2.cvtColor(frame,cv2.COLOR_BGR2GRAY)  \n",
    "        canvas=face_dectector(frame)\n",
    "        cv2.imshow('Live face dectector',cv2.flip(canvas,1))\n",
    "    if cv2.waitKey(1)==13:\n",
    "        break\n",
    "    \n",
    "\n",
    "cap.release()\n",
    "cv2.destroyAllWindows()"
   ]
  },
  {
   "cell_type": "code",
   "execution_count": null,
   "metadata": {
    "collapsed": true
   },
   "outputs": [],
   "source": []
  }
 ],
 "metadata": {
  "kernelspec": {
   "display_name": "Python 3",
   "language": "python",
   "name": "python3"
  },
  "language_info": {
   "codemirror_mode": {
    "name": "ipython",
    "version": 3
   },
   "file_extension": ".py",
   "mimetype": "text/x-python",
   "name": "python",
   "nbconvert_exporter": "python",
   "pygments_lexer": "ipython3",
   "version": "3.6.2"
  }
 },
 "nbformat": 4,
 "nbformat_minor": 2
}
